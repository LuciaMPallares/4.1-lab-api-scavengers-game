{
 "cells": [
  {
   "cell_type": "markdown",
   "metadata": {},
   "source": [
    "# Reboot - Data Collection\n",
    "\n",
    "Let's practise calling an API and navigating a JSON response!\n",
    "\n",
    "---\n",
    "\n",
    "## 1. Simple API call\n",
    "\n",
    "There's an API for pretty much everything. Let's start with a super simple one: the [Breaking Bad quotes API](https://github.com/shevabam/breaking-bad-quotes) (alternatively, use the [Le Wagon Breaking Bad Quotes API](https://breaking-bad.lewagon.com/v1/quotes)).\n",
    "\n",
    "For your convenience, we've included the simple syntax to do an HTTP request in Python and convert the response to a Python object as boilerplate code.\n",
    "\n",
    "The goal here is to get a single, random Breaking Bad quote and print it out to the terminal. \n",
    "\n",
    "Go the [doc](https://github.com/shevabam/breaking-bad-quotes) to find out which URL you need to use. Make sure to carefully check out the data types you're getting back from the API and extract the string you need."
   ]
  },
  {
   "cell_type": "code",
   "execution_count": 5,
   "metadata": {},
   "outputs": [],
   "source": [
    "import requests\n",
    "\n",
    "url = 'https://api.breakingbadquotes.xyz/v1/quotes'\n",
    "response = requests.get(url).json()"
   ]
  },
  {
   "cell_type": "code",
   "execution_count": 6,
   "metadata": {},
   "outputs": [
    {
     "data": {
      "text/plain": [
       "[{'quote': 'Hey, tell your douchebag brother-in-law to head towards the light',\n",
       "  'author': 'Jesse Pinkman'}]"
      ]
     },
     "execution_count": 6,
     "metadata": {},
     "output_type": "execute_result"
    }
   ],
   "source": [
    "# TODO: Print the quote + its author in a nice way.\n",
    "response"
   ]
  },
  {
   "cell_type": "code",
   "execution_count": 7,
   "metadata": {},
   "outputs": [
    {
     "data": {
      "text/plain": [
       "list"
      ]
     },
     "execution_count": 7,
     "metadata": {},
     "output_type": "execute_result"
    }
   ],
   "source": [
    "type(response\n",
    "    )"
   ]
  },
  {
   "cell_type": "markdown",
   "metadata": {},
   "source": [
    "---\n",
    "## 2. Looping over API results\n",
    "\n",
    "Often APIs will serve a list of results that we need to loop over and manipulate. For this next example, we will use the [Star Wars API](https://swapi.dev).\n",
    "\n",
    "First, go to the [documentation](https://swapi.dev/documentation) to find out which URL you're going to need to retrieve"
   ]
  },
  {
   "cell_type": "code",
   "execution_count": 11,
   "metadata": {
    "tags": [
     "challengify"
    ]
   },
   "outputs": [
    {
     "name": "stdout",
     "output_type": "stream",
     "text": [
      "https://swapi.dev/api/people/\n"
     ]
    }
   ],
   "source": [
    "url = 'https://swapi.dev/api/people/'\n",
    "print(url)"
   ]
  },
  {
   "cell_type": "markdown",
   "metadata": {},
   "source": [
    "Use `requests` to retrieve the people from the API. Store this in a `response` variable. What's the type of `response`?"
   ]
  },
  {
   "cell_type": "code",
   "execution_count": 13,
   "metadata": {
    "tags": [
     "challengify"
    ]
   },
   "outputs": [
    {
     "data": {
      "text/plain": [
       "{'count': 82,\n",
       " 'next': 'https://swapi.dev/api/people/?page=2',\n",
       " 'previous': None,\n",
       " 'results': [{'name': 'Luke Skywalker',\n",
       "   'height': '172',\n",
       "   'mass': '77',\n",
       "   'hair_color': 'blond',\n",
       "   'skin_color': 'fair',\n",
       "   'eye_color': 'blue',\n",
       "   'birth_year': '19BBY',\n",
       "   'gender': 'male',\n",
       "   'homeworld': 'https://swapi.dev/api/planets/1/',\n",
       "   'films': ['https://swapi.dev/api/films/1/',\n",
       "    'https://swapi.dev/api/films/2/',\n",
       "    'https://swapi.dev/api/films/3/',\n",
       "    'https://swapi.dev/api/films/6/'],\n",
       "   'species': [],\n",
       "   'vehicles': ['https://swapi.dev/api/vehicles/14/',\n",
       "    'https://swapi.dev/api/vehicles/30/'],\n",
       "   'starships': ['https://swapi.dev/api/starships/12/',\n",
       "    'https://swapi.dev/api/starships/22/'],\n",
       "   'created': '2014-12-09T13:50:51.644000Z',\n",
       "   'edited': '2014-12-20T21:17:56.891000Z',\n",
       "   'url': 'https://swapi.dev/api/people/1/'},\n",
       "  {'name': 'C-3PO',\n",
       "   'height': '167',\n",
       "   'mass': '75',\n",
       "   'hair_color': 'n/a',\n",
       "   'skin_color': 'gold',\n",
       "   'eye_color': 'yellow',\n",
       "   'birth_year': '112BBY',\n",
       "   'gender': 'n/a',\n",
       "   'homeworld': 'https://swapi.dev/api/planets/1/',\n",
       "   'films': ['https://swapi.dev/api/films/1/',\n",
       "    'https://swapi.dev/api/films/2/',\n",
       "    'https://swapi.dev/api/films/3/',\n",
       "    'https://swapi.dev/api/films/4/',\n",
       "    'https://swapi.dev/api/films/5/',\n",
       "    'https://swapi.dev/api/films/6/'],\n",
       "   'species': ['https://swapi.dev/api/species/2/'],\n",
       "   'vehicles': [],\n",
       "   'starships': [],\n",
       "   'created': '2014-12-10T15:10:51.357000Z',\n",
       "   'edited': '2014-12-20T21:17:50.309000Z',\n",
       "   'url': 'https://swapi.dev/api/people/2/'},\n",
       "  {'name': 'R2-D2',\n",
       "   'height': '96',\n",
       "   'mass': '32',\n",
       "   'hair_color': 'n/a',\n",
       "   'skin_color': 'white, blue',\n",
       "   'eye_color': 'red',\n",
       "   'birth_year': '33BBY',\n",
       "   'gender': 'n/a',\n",
       "   'homeworld': 'https://swapi.dev/api/planets/8/',\n",
       "   'films': ['https://swapi.dev/api/films/1/',\n",
       "    'https://swapi.dev/api/films/2/',\n",
       "    'https://swapi.dev/api/films/3/',\n",
       "    'https://swapi.dev/api/films/4/',\n",
       "    'https://swapi.dev/api/films/5/',\n",
       "    'https://swapi.dev/api/films/6/'],\n",
       "   'species': ['https://swapi.dev/api/species/2/'],\n",
       "   'vehicles': [],\n",
       "   'starships': [],\n",
       "   'created': '2014-12-10T15:11:50.376000Z',\n",
       "   'edited': '2014-12-20T21:17:50.311000Z',\n",
       "   'url': 'https://swapi.dev/api/people/3/'},\n",
       "  {'name': 'Darth Vader',\n",
       "   'height': '202',\n",
       "   'mass': '136',\n",
       "   'hair_color': 'none',\n",
       "   'skin_color': 'white',\n",
       "   'eye_color': 'yellow',\n",
       "   'birth_year': '41.9BBY',\n",
       "   'gender': 'male',\n",
       "   'homeworld': 'https://swapi.dev/api/planets/1/',\n",
       "   'films': ['https://swapi.dev/api/films/1/',\n",
       "    'https://swapi.dev/api/films/2/',\n",
       "    'https://swapi.dev/api/films/3/',\n",
       "    'https://swapi.dev/api/films/6/'],\n",
       "   'species': [],\n",
       "   'vehicles': [],\n",
       "   'starships': ['https://swapi.dev/api/starships/13/'],\n",
       "   'created': '2014-12-10T15:18:20.704000Z',\n",
       "   'edited': '2014-12-20T21:17:50.313000Z',\n",
       "   'url': 'https://swapi.dev/api/people/4/'},\n",
       "  {'name': 'Leia Organa',\n",
       "   'height': '150',\n",
       "   'mass': '49',\n",
       "   'hair_color': 'brown',\n",
       "   'skin_color': 'light',\n",
       "   'eye_color': 'brown',\n",
       "   'birth_year': '19BBY',\n",
       "   'gender': 'female',\n",
       "   'homeworld': 'https://swapi.dev/api/planets/2/',\n",
       "   'films': ['https://swapi.dev/api/films/1/',\n",
       "    'https://swapi.dev/api/films/2/',\n",
       "    'https://swapi.dev/api/films/3/',\n",
       "    'https://swapi.dev/api/films/6/'],\n",
       "   'species': [],\n",
       "   'vehicles': ['https://swapi.dev/api/vehicles/30/'],\n",
       "   'starships': [],\n",
       "   'created': '2014-12-10T15:20:09.791000Z',\n",
       "   'edited': '2014-12-20T21:17:50.315000Z',\n",
       "   'url': 'https://swapi.dev/api/people/5/'},\n",
       "  {'name': 'Owen Lars',\n",
       "   'height': '178',\n",
       "   'mass': '120',\n",
       "   'hair_color': 'brown, grey',\n",
       "   'skin_color': 'light',\n",
       "   'eye_color': 'blue',\n",
       "   'birth_year': '52BBY',\n",
       "   'gender': 'male',\n",
       "   'homeworld': 'https://swapi.dev/api/planets/1/',\n",
       "   'films': ['https://swapi.dev/api/films/1/',\n",
       "    'https://swapi.dev/api/films/5/',\n",
       "    'https://swapi.dev/api/films/6/'],\n",
       "   'species': [],\n",
       "   'vehicles': [],\n",
       "   'starships': [],\n",
       "   'created': '2014-12-10T15:52:14.024000Z',\n",
       "   'edited': '2014-12-20T21:17:50.317000Z',\n",
       "   'url': 'https://swapi.dev/api/people/6/'},\n",
       "  {'name': 'Beru Whitesun lars',\n",
       "   'height': '165',\n",
       "   'mass': '75',\n",
       "   'hair_color': 'brown',\n",
       "   'skin_color': 'light',\n",
       "   'eye_color': 'blue',\n",
       "   'birth_year': '47BBY',\n",
       "   'gender': 'female',\n",
       "   'homeworld': 'https://swapi.dev/api/planets/1/',\n",
       "   'films': ['https://swapi.dev/api/films/1/',\n",
       "    'https://swapi.dev/api/films/5/',\n",
       "    'https://swapi.dev/api/films/6/'],\n",
       "   'species': [],\n",
       "   'vehicles': [],\n",
       "   'starships': [],\n",
       "   'created': '2014-12-10T15:53:41.121000Z',\n",
       "   'edited': '2014-12-20T21:17:50.319000Z',\n",
       "   'url': 'https://swapi.dev/api/people/7/'},\n",
       "  {'name': 'R5-D4',\n",
       "   'height': '97',\n",
       "   'mass': '32',\n",
       "   'hair_color': 'n/a',\n",
       "   'skin_color': 'white, red',\n",
       "   'eye_color': 'red',\n",
       "   'birth_year': 'unknown',\n",
       "   'gender': 'n/a',\n",
       "   'homeworld': 'https://swapi.dev/api/planets/1/',\n",
       "   'films': ['https://swapi.dev/api/films/1/'],\n",
       "   'species': ['https://swapi.dev/api/species/2/'],\n",
       "   'vehicles': [],\n",
       "   'starships': [],\n",
       "   'created': '2014-12-10T15:57:50.959000Z',\n",
       "   'edited': '2014-12-20T21:17:50.321000Z',\n",
       "   'url': 'https://swapi.dev/api/people/8/'},\n",
       "  {'name': 'Biggs Darklighter',\n",
       "   'height': '183',\n",
       "   'mass': '84',\n",
       "   'hair_color': 'black',\n",
       "   'skin_color': 'light',\n",
       "   'eye_color': 'brown',\n",
       "   'birth_year': '24BBY',\n",
       "   'gender': 'male',\n",
       "   'homeworld': 'https://swapi.dev/api/planets/1/',\n",
       "   'films': ['https://swapi.dev/api/films/1/'],\n",
       "   'species': [],\n",
       "   'vehicles': [],\n",
       "   'starships': ['https://swapi.dev/api/starships/12/'],\n",
       "   'created': '2014-12-10T15:59:50.509000Z',\n",
       "   'edited': '2014-12-20T21:17:50.323000Z',\n",
       "   'url': 'https://swapi.dev/api/people/9/'},\n",
       "  {'name': 'Obi-Wan Kenobi',\n",
       "   'height': '182',\n",
       "   'mass': '77',\n",
       "   'hair_color': 'auburn, white',\n",
       "   'skin_color': 'fair',\n",
       "   'eye_color': 'blue-gray',\n",
       "   'birth_year': '57BBY',\n",
       "   'gender': 'male',\n",
       "   'homeworld': 'https://swapi.dev/api/planets/20/',\n",
       "   'films': ['https://swapi.dev/api/films/1/',\n",
       "    'https://swapi.dev/api/films/2/',\n",
       "    'https://swapi.dev/api/films/3/',\n",
       "    'https://swapi.dev/api/films/4/',\n",
       "    'https://swapi.dev/api/films/5/',\n",
       "    'https://swapi.dev/api/films/6/'],\n",
       "   'species': [],\n",
       "   'vehicles': ['https://swapi.dev/api/vehicles/38/'],\n",
       "   'starships': ['https://swapi.dev/api/starships/48/',\n",
       "    'https://swapi.dev/api/starships/59/',\n",
       "    'https://swapi.dev/api/starships/64/',\n",
       "    'https://swapi.dev/api/starships/65/',\n",
       "    'https://swapi.dev/api/starships/74/'],\n",
       "   'created': '2014-12-10T16:16:29.192000Z',\n",
       "   'edited': '2014-12-20T21:17:50.325000Z',\n",
       "   'url': 'https://swapi.dev/api/people/10/'}]}"
      ]
     },
     "execution_count": 13,
     "metadata": {},
     "output_type": "execute_result"
    }
   ],
   "source": [
    "response = requests.get(url).json()\n",
    "response"
   ]
  },
  {
   "cell_type": "code",
   "execution_count": 25,
   "metadata": {},
   "outputs": [
    {
     "data": {
      "text/plain": [
       "dict"
      ]
     },
     "execution_count": 25,
     "metadata": {},
     "output_type": "execute_result"
    }
   ],
   "source": [
    "type(response)"
   ]
  },
  {
   "cell_type": "code",
   "execution_count": null,
   "metadata": {},
   "outputs": [],
   "source": []
  },
  {
   "cell_type": "markdown",
   "metadata": {
    "slideshow": {
     "slide_type": "slide"
    }
   },
   "source": [
    "Loop over the **5 first people** and print a sentece for each following this template:\n",
    "\n",
    "- `Luke Skywalker has blue eyes`\n",
    "- `C-3PO has yellow eyes`\n",
    "- etc."
   ]
  },
  {
   "cell_type": "code",
   "execution_count": 6,
   "metadata": {
    "tags": [
     "challengify"
    ]
   },
   "outputs": [
    {
     "name": "stdout",
     "output_type": "stream",
     "text": [
      "Luke Skywalker blue\n",
      "C-3PO yellow\n",
      "R2-D2 red\n",
      "Darth Vader yellow\n",
      "Leia Organa brown\n"
     ]
    }
   ],
   "source": [
    "# TO-DO\n"
   ]
  },
  {
   "cell_type": "code",
   "execution_count": 34,
   "metadata": {},
   "outputs": [],
   "source": [
    "from itertools import islice"
   ]
  },
  {
   "cell_type": "code",
   "execution_count": 36,
   "metadata": {},
   "outputs": [
    {
     "name": "stdout",
     "output_type": "stream",
     "text": [
      "Luke Skywalker has blue eyes.\n",
      "C-3PO has yellow eyes.\n",
      "R2-D2 has red eyes.\n",
      "Darth Vader has yellow eyes.\n",
      "Leia Organa has brown eyes.\n"
     ]
    }
   ],
   "source": [
    "for personaje in response['results'][0:5]:\n",
    "    for nombre in islice(personaje.values(),0,1):\n",
    "        for ojos in islice(personaje.values(),5, 6):\n",
    "            print(nombre, 'has',  ojos, 'eyes.')"
   ]
  },
  {
   "cell_type": "code",
   "execution_count": 49,
   "metadata": {},
   "outputs": [
    {
     "name": "stdout",
     "output_type": "stream",
     "text": [
      "Luke Skywalker blue\n",
      "C-3PO yellow\n",
      "R2-D2 red\n",
      "Darth Vader yellow\n",
      "Leia Organa brown\n"
     ]
    }
   ],
   "source": [
    "for personaje in response['results'][0:5]:\n",
    "    for nombre in islice(personaje.values(),0,1):\n",
    "        for ojos in islice(personaje.values(),5,6):\n",
    "            print(nombre, ojos)"
   ]
  },
  {
   "cell_type": "code",
   "execution_count": 27,
   "metadata": {},
   "outputs": [
    {
     "ename": "AttributeError",
     "evalue": "'dict' object has no attribute 'json'",
     "output_type": "error",
     "traceback": [
      "\u001b[1;31m---------------------------------------------------------------------------\u001b[0m",
      "\u001b[1;31mAttributeError\u001b[0m                            Traceback (most recent call last)",
      "Input \u001b[1;32mIn [27]\u001b[0m, in \u001b[0;36m<cell line: 2>\u001b[1;34m()\u001b[0m\n\u001b[0;32m      1\u001b[0m lista \u001b[38;5;241m=\u001b[39m []                      \n\u001b[1;32m----> 2\u001b[0m \u001b[38;5;28;01mfor\u001b[39;00m i \u001b[38;5;129;01min\u001b[39;00m \u001b[38;5;28mrange\u001b[39m(\u001b[38;5;28mlen\u001b[39m(\u001b[43mresponse\u001b[49m\u001b[38;5;241;43m.\u001b[39;49m\u001b[43mjson\u001b[49m())):\n\u001b[0;32m      3\u001b[0m     lista\u001b[38;5;241m.\u001b[39mappend(response\u001b[38;5;241m.\u001b[39mjson()[i][\u001b[38;5;124m'\u001b[39m\u001b[38;5;124meye_color\u001b[39m\u001b[38;5;124m'\u001b[39m])\n\u001b[0;32m      4\u001b[0m \u001b[38;5;28mprint\u001b[39m(lista)\n",
      "\u001b[1;31mAttributeError\u001b[0m: 'dict' object has no attribute 'json'"
     ]
    }
   ],
   "source": [
    "lista = []                      \n",
    "for i in range(len(response)):\n",
    "    lista.append(response[i]['eye_color'])\n",
    "\n",
    "    \n",
    "print('name, 'has', color, 'eyes')"
   ]
  },
  {
   "cell_type": "code",
   "execution_count": null,
   "metadata": {},
   "outputs": [],
   "source": [
    "list(lambda )"
   ]
  },
  {
   "cell_type": "code",
   "execution_count": 29,
   "metadata": {},
   "outputs": [
    {
     "ename": "ValueError",
     "evalue": "too many values to unpack (expected 2)",
     "output_type": "error",
     "traceback": [
      "\u001b[1;31m---------------------------------------------------------------------------\u001b[0m",
      "\u001b[1;31mValueError\u001b[0m                                Traceback (most recent call last)",
      "Input \u001b[1;32mIn [29]\u001b[0m, in \u001b[0;36m<cell line: 2>\u001b[1;34m()\u001b[0m\n\u001b[0;32m      1\u001b[0m lista\u001b[38;5;241m=\u001b[39m[]\n\u001b[1;32m----> 2\u001b[0m \u001b[38;5;28;01mfor\u001b[39;00m k,v \u001b[38;5;129;01min\u001b[39;00m response:\n\u001b[0;32m      3\u001b[0m     lista\u001b[38;5;241m.\u001b[39mappend(k, v) \n\u001b[0;32m      4\u001b[0m     \u001b[38;5;28;01mif\u001b[39;00m \u001b[38;5;28mlen\u001b[39m(response) \u001b[38;5;241m==\u001b[39m \u001b[38;5;241m5\u001b[39m:\n",
      "\u001b[1;31mValueError\u001b[0m: too many values to unpack (expected 2)"
     ]
    }
   ],
   "source": [
    "lista=[]\n",
    "for k,v in response:\n",
    "    lista.append(k, v) \n",
    "    if len(response) == 5:\n",
    "            break;\n"
   ]
  },
  {
   "cell_type": "markdown",
   "metadata": {},
   "source": [
    "---\n",
    "## 3. Geocoding\n",
    "\n",
    "A geocoding service is a tool to convert addresses to geo-coordinates and vice versa. We use them every time we fire up our GPS apps and look for a destination.\n",
    "\n",
    "For this exercise, we will use the [Nominatim API](https://nominatim.openstreetmap.org/)\n",
    "\n",
    "First, get familiar with the documentation, [which you will find here](https://nominatim.org/release-docs/latest/api/Overview/). Take a couple of minutes to read through and become familiar with it. In this exercise, we will need to find a set of geo-coordinates for a given address, and find an address from a set of geo-coordinates."
   ]
  },
  {
   "cell_type": "markdown",
   "metadata": {},
   "source": [
    "Use the API to find the latitude and longitude for this address: `10 Downing St, Westminster, London SW1A 2AA, United Kingdom`."
   ]
  },
  {
   "cell_type": "code",
   "execution_count": 60,
   "metadata": {
    "tags": [
     "challengify"
    ]
   },
   "outputs": [
    {
     "name": "stdout",
     "output_type": "stream",
     "text": [
      "[{'place_id': 79190057, 'licence': 'Data © OpenStreetMap contributors, ODbL 1.0. https://osm.org/copyright', 'osm_type': 'node', 'osm_id': 7632805052, 'boundingbox': ['36.7335222', '36.7336222', '-4.4020492', '-4.4019492'], 'lat': '36.7335722', 'lon': '-4.4019992', 'display_name': '18, Calle La Era, Los Pinos del Limonar, Este, Málaga, Málaga-Costa del Sol, Málaga, Andalucía, 29016, España', 'class': 'place', 'type': 'house', 'importance': 0.7400999999999999}]\n"
     ]
    }
   ],
   "source": [
    "address = \"calle la era, 18 29016 Málaga, España\"\n",
    "\n",
    "url = \" https://nominatim.openstreetmap.org/search?\"\n",
    "\n",
    "params = {\n",
    "    'q': address,\n",
    "    'format': 'json'\n",
    "}\n",
    "\n",
    "response = requests.get(url, params=params).json()\n",
    "print(response)"
   ]
  },
  {
   "cell_type": "markdown",
   "metadata": {},
   "source": [
    "Try with another address of your choice!"
   ]
  },
  {
   "cell_type": "markdown",
   "metadata": {},
   "source": [
    "---\n",
    "## 4. Reverse Geocoding\n",
    "\n",
    "Find the address belonging to this set of geo-coordinates: `{'lat': 38.8976633, 'lng': -77.036650 }`.\n",
    "Print the sentence `I would like to visit X`, replacing X with the address you found."
   ]
  },
  {
   "cell_type": "code",
   "execution_count": 58,
   "metadata": {
    "tags": [
     "challengify"
    ]
   },
   "outputs": [],
   "source": [
    "def reverse_coordinates(lat, lon):\n",
    "    url = \"https://nominatim.openstreetmap.org/reverse?\"\n",
    "    params = {\n",
    "        'lat': lat,\n",
    "        'lon': lon,\n",
    "        'format': 'json'\n",
    "    }\n",
    "    response = requests.get(url, params=params).json()\n",
    "    return response['display_name']"
   ]
  },
  {
   "cell_type": "code",
   "execution_count": 61,
   "metadata": {},
   "outputs": [
    {
     "data": {
      "text/plain": [
       "'18, Calle La Era, Los Pinos del Limonar, Este, Málaga, Málaga-Costa del Sol, Málaga, Andalucía, 29016, España'"
      ]
     },
     "execution_count": 61,
     "metadata": {},
     "output_type": "execute_result"
    }
   ],
   "source": [
    "reverse_coordinates(36.7335722, -4.4019992)"
   ]
  },
  {
   "cell_type": "code",
   "execution_count": null,
   "metadata": {},
   "outputs": [],
   "source": []
  }
 ],
 "metadata": {
  "kernelspec": {
   "display_name": "Python 3 (ipykernel)",
   "language": "python",
   "name": "python3"
  },
  "language_info": {
   "codemirror_mode": {
    "name": "ipython",
    "version": 3
   },
   "file_extension": ".py",
   "mimetype": "text/x-python",
   "name": "python",
   "nbconvert_exporter": "python",
   "pygments_lexer": "ipython3",
   "version": "3.9.12"
  },
  "toc": {
   "base_numbering": 1,
   "nav_menu": {},
   "number_sections": true,
   "sideBar": true,
   "skip_h1_title": false,
   "title_cell": "Table of Contents",
   "title_sidebar": "Contents",
   "toc_cell": false,
   "toc_position": {},
   "toc_section_display": true,
   "toc_window_display": false
  }
 },
 "nbformat": 4,
 "nbformat_minor": 4
}
